{
  "nbformat": 4,
  "nbformat_minor": 0,
  "metadata": {
    "colab": {
      "provenance": [],
      "authorship_tag": "ABX9TyNtH9+1CVeELgPFbn/2LW30",
      "include_colab_link": true
    },
    "kernelspec": {
      "name": "python3",
      "display_name": "Python 3"
    },
    "language_info": {
      "name": "python"
    }
  },
  "cells": [
    {
      "cell_type": "markdown",
      "metadata": {
        "id": "view-in-github",
        "colab_type": "text"
      },
      "source": [
        "<a href=\"https://colab.research.google.com/github/soniamaryc/ARUI_RandomObjectManipulation/blob/master/IK_Jacobian_JointVelocities_2LinkPlanar.ipynb\" target=\"_parent\"><img src=\"https://colab.research.google.com/assets/colab-badge.svg\" alt=\"Open In Colab\"/></a>"
      ]
    },
    {
      "cell_type": "code",
      "execution_count": 1,
      "metadata": {
        "colab": {
          "base_uri": "https://localhost:8080/"
        },
        "id": "26oUaIHjxuC-",
        "outputId": "ae82b675-0cce-4d64-9e12-bad3b58bff65"
      },
      "outputs": [
        {
          "output_type": "stream",
          "name": "stdout",
          "text": [
            "Joint Angles (rad): [0.78539816 0.78539816]\n",
            "Desired End-Effector Velocity (m/s): [0.1 0. ]\n",
            "Calculated Joint Velocities (rad/s): [ 1.92490079e-17 -1.00000000e-01]\n"
          ]
        }
      ],
      "source": [
        "import numpy as np\n",
        "\n",
        "# Robot Parameters\n",
        "L1, L2 = 1.0, 1.0  # Link lengths\n",
        "\n",
        "# Jacobian Matrix Calculation\n",
        "def jacobian(theta):\n",
        "    theta1, theta2 = theta\n",
        "    J = np.array([\n",
        "        [-L1 * np.sin(theta1) - L2 * np.sin(theta1 + theta2), -L2 * np.sin(theta1 + theta2)],\n",
        "        [ L1 * np.cos(theta1) + L2 * np.cos(theta1 + theta2),  L2 * np.cos(theta1 + theta2)]\n",
        "    ])\n",
        "    return J\n",
        "\n",
        "# Function to calculate joint velocities given end-effector velocities\n",
        "def calculate_joint_velocities(theta, end_effector_vel):\n",
        "    J = jacobian(theta)\n",
        "    J_inv = np.linalg.pinv(J)\n",
        "    joint_velocities = J_inv @ end_effector_vel\n",
        "    return joint_velocities\n",
        "\n",
        "# Example Usage\n",
        "if __name__ == \"__main__\":\n",
        "    # Current joint angles (in radians)\n",
        "    theta = np.array([np.pi/4, np.pi/4])\n",
        "\n",
        "    # Desired end-effector velocity (x_dot, y_dot)\n",
        "    end_effector_vel = np.array([0.1, 0.0])  # Example: move horizontally at 0.1 m/s\n",
        "\n",
        "    # Compute joint velocities\n",
        "    joint_velocities = calculate_joint_velocities(theta, end_effector_vel)\n",
        "\n",
        "    # Display results\n",
        "    print(\"Joint Angles (rad):\", theta)\n",
        "    print(\"Desired End-Effector Velocity (m/s):\", end_effector_vel)\n",
        "    print(\"Calculated Joint Velocities (rad/s):\", joint_velocities)\n"
      ]
    }
  ]
}
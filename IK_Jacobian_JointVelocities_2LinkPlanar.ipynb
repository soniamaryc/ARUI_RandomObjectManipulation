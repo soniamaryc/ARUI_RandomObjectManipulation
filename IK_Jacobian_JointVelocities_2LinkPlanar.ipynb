{
  "nbformat": 4,
  "nbformat_minor": 0,
  "metadata": {
    "colab": {
      "provenance": [],
      "authorship_tag": "ABX9TyOdMsIcDzjV2zjqiuYr3/J5",
      "include_colab_link": true
    },
    "kernelspec": {
      "name": "python3",
      "display_name": "Python 3"
    },
    "language_info": {
      "name": "python"
    }
  },
  "cells": [
    {
      "cell_type": "markdown",
      "metadata": {
        "id": "view-in-github",
        "colab_type": "text"
      },
      "source": [
        "<a href=\"https://colab.research.google.com/github/soniamaryc/ARUI_RandomObjectManipulation/blob/master/IK_Jacobian_JointVelocities_2LinkPlanar.ipynb\" target=\"_parent\"><img src=\"https://colab.research.google.com/assets/colab-badge.svg\" alt=\"Open In Colab\"/></a>"
      ]
    },
    {
      "cell_type": "code",
      "execution_count": null,
      "metadata": {
        "colab": {
          "base_uri": "https://localhost:8080/"
        },
        "id": "26oUaIHjxuC-",
        "outputId": "ae82b675-0cce-4d64-9e12-bad3b58bff65"
      },
      "outputs": [
        {
          "output_type": "stream",
          "name": "stdout",
          "text": [
            "Joint Angles (rad): [0.78539816 0.78539816]\n",
            "Desired End-Effector Velocity (m/s): [0.1 0. ]\n",
            "Calculated Joint Velocities (rad/s): [ 1.92490079e-17 -1.00000000e-01]\n"
          ]
        }
      ],
      "source": [
        "import numpy as np\n",
        "\n",
        "# Robot Parameters\n",
        "L1, L2 = 1.0, 1.0  # Link lengths\n",
        "\n",
        "# Jacobian Matrix Calculation\n",
        "def jacobian(theta):\n",
        "    theta1, theta2 = theta\n",
        "    J = np.array([\n",
        "        [-L1 * np.sin(theta1) - L2 * np.sin(theta1 + theta2), -L2 * np.sin(theta1 + theta2)],\n",
        "        [ L1 * np.cos(theta1) + L2 * np.cos(theta1 + theta2),  L2 * np.cos(theta1 + theta2)]\n",
        "    ])\n",
        "    return J\n",
        "\n",
        "# Function to calculate joint velocities given end-effector velocities\n",
        "def calculate_joint_velocities(theta, end_effector_vel):\n",
        "    J = jacobian(theta)\n",
        "    J_inv = np.linalg.pinv(J)\n",
        "    joint_velocities = J_inv @ end_effector_vel\n",
        "    return joint_velocities\n",
        "\n",
        "# Example Usage\n",
        "if __name__ == \"__main__\":\n",
        "    # Current joint angles (in radians)\n",
        "    theta = np.array([np.pi/4, np.pi/4])\n",
        "\n",
        "    # Desired end-effector velocity (x_dot, y_dot)\n",
        "    end_effector_vel = np.array([0.1, 0.0])  # Example: move horizontally at 0.1 m/s\n",
        "\n",
        "    # Compute joint velocities\n",
        "    joint_velocities = calculate_joint_velocities(theta, end_effector_vel)\n",
        "\n",
        "    # Display results\n",
        "    print(\"Joint Angles (rad):\", theta)\n",
        "    print(\"Desired End-Effector Velocity (m/s):\", end_effector_vel)\n",
        "    print(\"Calculated Joint Velocities (rad/s):\", joint_velocities)\n"
      ]
    },
    {
      "cell_type": "markdown",
      "source": [],
      "metadata": {
        "id": "cUQjBUzmzmht"
      }
    },
    {
      "cell_type": "code",
      "source": [
        "import numpy as np\n",
        "\n",
        "# Robot Parameters\n",
        "L1, L2 = 1.0, 1.0  # Link lengths in meters\n",
        "\n",
        "# Forward Kinematics Function (for reference, not directly used here)\n",
        "def forward_kinematics(theta1, theta2):\n",
        "    x = L1 * np.cos(theta1) + L2 * np.cos(theta1 + theta2)\n",
        "    y = L1 * np.sin(theta1) + L2 * np.sin(theta1 + theta2)\n",
        "    return np.array([x, y])\n",
        "\n",
        "# Jacobian Matrix Calculation\n",
        "def compute_jacobian(theta1, theta2):\n",
        "    \"\"\"\n",
        "    Compute the 2x2 Jacobian for a 2-link planar robot.\n",
        "    theta1, theta2: joint angles in radians\n",
        "    Returns: Jacobian matrix J\n",
        "    \"\"\"\n",
        "    J11 = -L1 * np.sin(theta1) - L2 * np.sin(theta1 + theta2)  # ∂x/∂θ₁\n",
        "    J12 = -L2 * np.sin(theta1 + theta2)                        # ∂x/∂θ₂\n",
        "    J21 = L1 * np.cos(theta1) + L2 * np.cos(theta1 + theta2)   # ∂y/∂θ₁\n",
        "    J22 = L2 * np.cos(theta1 + theta2)                         # ∂y/∂θ₂\n",
        "    return np.array([[J11, J12], [J21, J22]])\n",
        "\n",
        "# Joint Velocity Solver\n",
        "def compute_joint_velocities(desired_velocity, theta1, theta2):\n",
        "    \"\"\"\n",
        "    Calculate joint velocities θ̇ given desired end-effector velocity ẋ.\n",
        "    desired_velocity: [ẋ, ẏ] in m/s\n",
        "    theta1, theta2: current joint angles in radians\n",
        "    Returns: [θ̇₁, θ̇₂] in rad/s\n",
        "    \"\"\"\n",
        "    # Convert desired velocity to numpy array\n",
        "    v = np.array(desired_velocity, dtype=float).reshape(2, 1)  # Column vector\n",
        "\n",
        "    # Compute Jacobian at current configuration\n",
        "    J = compute_jacobian(theta1, theta2)\n",
        "\n",
        "    # Check for singularity\n",
        "    det_J = np.linalg.det(J)\n",
        "    if abs(det_J) < 1e-6:\n",
        "        print(\"Warning: Jacobian is singular. Using pseudoinverse instead.\")\n",
        "        J_inv = np.linalg.pinv(J)  # Fallback to pseudoinverse\n",
        "    else:\n",
        "        J_inv = np.linalg.inv(J)   # Direct inverse if invertible\n",
        "\n",
        "    # Solve for joint velocities: θ̇ = J⁻¹ * ẋ\n",
        "    theta_dot = J_inv @ v\n",
        "    return theta_dot.flatten()  # Return as 1D array [θ̇₁, θ̇₂]\n",
        "\n",
        "# Test the function\n",
        "def main():\n",
        "    # Current joint angles (example configuration)\n",
        "    theta1 = 0.0           # 0° (base horizontal)\n",
        "    theta2 = np.pi / 2     # 90° (second link vertical)\n",
        "\n",
        "    # Desired end-effector velocity (m/s)\n",
        "    desired_velocity = [0.5, 0.5]  # ẋ = 0.5 m/s, ẏ = 0.5 m/s\n",
        "\n",
        "    # Calculate joint velocities\n",
        "    theta_dot = compute_joint_velocities(desired_velocity, theta1, theta2)\n",
        "\n",
        "    # Print results\n",
        "    print(f\"Current Configuration: θ₁ = {np.degrees(theta1):.2f}°, θ₂ = {np.degrees(theta2):.2f}°\")\n",
        "    print(f\"Desired End-Effector Velocity: ẋ = {desired_velocity[0]} m/s, ẏ = {desired_velocity[1]} m/s\")\n",
        "    print(f\"Joint Velocities: θ̇₁ = {theta_dot[0]:.3f} rad/s, θ̇₂ = {theta_dot[1]:.3f} rad/s\")\n",
        "\n",
        "    # Verify: Compute resulting end-effector velocity\n",
        "    J = compute_jacobian(theta1, theta2)\n",
        "    v_computed = J @ theta_dot.reshape(2, 1)\n",
        "    print(f\"Computed End-Effector Velocity: ẋ = {v_computed[0, 0]:.3f} m/s, ẏ = {v_computed[1, 0]:.3f} m/s\")\n",
        "\n",
        "if __name__ == \"__main__\":\n",
        "    main()"
      ],
      "metadata": {
        "colab": {
          "base_uri": "https://localhost:8080/"
        },
        "id": "suuw5qh3y-W7",
        "outputId": "c2675c79-d8d1-4873-a505-67e3ceb7c136"
      },
      "execution_count": null,
      "outputs": [
        {
          "output_type": "stream",
          "name": "stdout",
          "text": [
            "Current Configuration: θ₁ = 0.00°, θ₂ = 90.00°\n",
            "Desired End-Effector Velocity: ẋ = 0.5 m/s, ẏ = 0.5 m/s\n",
            "Joint Velocities: θ̇₁ = 0.500 rad/s, θ̇₂ = -1.000 rad/s\n",
            "Computed End-Effector Velocity: ẋ = 0.500 m/s, ẏ = 0.500 m/s\n"
          ]
        }
      ]
    },
    {
      "cell_type": "markdown",
      "source": [
        "**Minimalist Code**"
      ],
      "metadata": {
        "id": "XkpjXJS9zoTI"
      }
    },
    {
      "cell_type": "code",
      "source": [
        "import numpy as np\n",
        "\n",
        "# Robot link lengths\n",
        "L1, L2 = 1.0, 1.0\n",
        "\n",
        "# Joint angles (in radians)\n",
        "theta1, theta2 = 0.0, np.pi / 2  # 0° and 90°\n",
        "\n",
        "# Desired end-effector velocity (m/s)\n",
        "vx, vy = 0.5, 0.5\n",
        "\n",
        "# Jacobian matrix (2x2)\n",
        "J = np.array([\n",
        "    [-L1 * np.sin(theta1) - L2 * np.sin(theta1 + theta2), -L2 * np.sin(theta1 + theta2)],\n",
        "    [L1 * np.cos(theta1) + L2 * np.cos(theta1 + theta2), L2 * np.cos(theta1 + theta2)]\n",
        "])\n",
        "\n",
        "# Inverse Jacobian and joint velocities\n",
        "J_inv = np.linalg.inv(J)              # Invert the Jacobian\n",
        "v = np.array([vx, vy])                # Velocity vector\n",
        "theta_dot = J_inv @ v                 # θ̇ = J⁻¹ * v\n",
        "\n",
        "# Print results\n",
        "print(f\"θ̇₁ = {theta_dot[0]:.3f} rad/s, θ̇₂ = {theta_dot[1]:.3f} rad/s\")"
      ],
      "metadata": {
        "id": "pCKQsAYwzre0",
        "outputId": "6523f401-29b4-4df4-9879-a080102ada55",
        "colab": {
          "base_uri": "https://localhost:8080/"
        }
      },
      "execution_count": null,
      "outputs": [
        {
          "output_type": "stream",
          "name": "stdout",
          "text": [
            "θ̇₁ = 0.500 rad/s, θ̇₂ = -1.000 rad/s\n"
          ]
        }
      ]
    }
  ]
}